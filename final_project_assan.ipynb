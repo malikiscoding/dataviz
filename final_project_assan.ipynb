{
 "cells": [
  {
   "attachments": {},
   "cell_type": "markdown",
   "metadata": {},
   "source": [
    "# Final Project for Data and Network Visualization\n",
    "# Mukhamejan Assan\n",
    "# March 31, 2023"
   ]
  },
  {
   "attachments": {},
   "cell_type": "markdown",
   "metadata": {},
   "source": [
    "## Data and Motivation\n",
    "\n",
    "The motivation behind this project came while I was searching for a \"good\" visualization on the Internet. I stumbled upon a population pyramid chart on a website, but I didn't like that I had to click each year to see the relevant information. Additionally, the chart only displayed the percentage share of each age group, which I found limiting. So I decided to take matters into my own hands and create a better version of the chart.\n",
    "\n",
    "I scraped the data from the same website and used Plotly to create an interactive population pyramid chart for Kazakhstan. The chart features a slider that allows the user to explore the data for different years, as well as a horizontal bar chart that displays the absolute number of people in each age group. The chart also distinguishes between males and females, making it easy to compare the population distribution between the two genders.\n",
    "\n",
    "I hope this visualization will be useful for anyone interested in exploring the demographic trends of Kazakhstan."
   ]
  },
  {
   "attachments": {},
   "cell_type": "markdown",
   "metadata": {},
   "source": [
    "### Code for Data scraping"
   ]
  },
  {
   "cell_type": "code",
   "execution_count": 1,
   "metadata": {},
   "outputs": [],
   "source": [
    "import requests\n",
    "import pandas as pd\n",
    "import io\n",
    "\n",
    "country_code = 398 # change this to the country code you want to retrieve data for\n",
    "csv_data_list = [] # to store the CSV data for each year\n",
    "year_list = [] # to store the year values for each CSV data string\n",
    "\n",
    "# Loop through years from 1950 to 2100\n",
    "for year in range(1950, 2101):\n",
    "    # Send a GET request to the CSV URL for the current year and retrieve the contents\n",
    "    url = f\"https://www.populationpyramid.net/api/pp/{country_code}/{year}/?csv=true\"\n",
    "    response = requests.get(url)\n",
    "    csv_data = response.content.decode()\n",
    "\n",
    "    # Add the year value to the list and append the CSV data to the list\n",
    "    year_list.append(year)\n",
    "    csv_data_list.append(csv_data)\n",
    "\n",
    "# Create a DataFrame for each CSV data string and add a year column\n",
    "df_list = []\n",
    "for i in range(len(csv_data_list)):\n",
    "    df = pd.read_csv(io.StringIO(csv_data_list[i]))\n",
    "    df.insert(0, \"Year\", year_list[i])\n",
    "    df_list.append(df)\n",
    "\n",
    "# Concatenate the DataFrames into a single DataFrame using pandas\n",
    "df = pd.concat(df_list)\n"
   ]
  },
  {
   "attachments": {},
   "cell_type": "markdown",
   "metadata": {},
   "source": [
    "### Code for the first visualization"
   ]
  },
  {
   "cell_type": "code",
   "execution_count": 5,
   "metadata": {},
   "outputs": [
    {
     "data": {
      "text/plain": [
       "'population_pyramid.html'"
      ]
     },
     "execution_count": 5,
     "metadata": {},
     "output_type": "execute_result"
    }
   ],
   "source": [
    "import plotly.graph_objs as go\n",
    "import pandas as pd\n",
    "from plotly.offline import plot\n",
    "\n",
    "# Load data\n",
    "data = df\n",
    "\n",
    "# Define function to filter data by year\n",
    "def get_data_by_year(data, year):\n",
    "    return data[data['Year'] == year]\n",
    "\n",
    "# Define function to update plot traces based on year\n",
    "def update_traces(year):\n",
    "    data_year = get_data_by_year(data, year)\n",
    "    male_data = data_year[['Age', 'M']]\n",
    "    female_data = data_year[['Age', 'F']]\n",
    "    age_groups = list(data_year['Age'])\n",
    "    bins = [i for i in range(len(age_groups) + 1)]\n",
    "\n",
    "    fig.data[0].x = male_data['M']\n",
    "    fig.data[0].y = age_groups\n",
    "    fig.data[1].x = -female_data['F']\n",
    "    fig.data[1].y = age_groups\n",
    "\n",
    "\n",
    "# Create initial plot \n",
    "year = 1950\n",
    "data_year = get_data_by_year(data, year)\n",
    "male_data = data_year[['Age', 'M']]\n",
    "female_data = data_year[['Age', 'F']]\n",
    "age_groups = list(data_year['Age'])\n",
    "bins = [i for i in range(len(age_groups) + 1)]\n",
    "\n",
    "male_trace = go.Bar(\n",
    "    y=age_groups,\n",
    "    x=male_data['M'],\n",
    "    orientation='h',\n",
    "    name='Male',\n",
    "    marker=dict(color='crimson')\n",
    ")\n",
    "\n",
    "female_trace = go.Bar(\n",
    "    y=list(age_groups),\n",
    "    x=[-x for x in female_data['F']],\n",
    "    orientation='h',\n",
    "    name='Female',\n",
    "    marker=dict(color='seagreen')\n",
    ")\n",
    "\n",
    "fig = go.Figure(data=[male_trace, female_trace])\n",
    "\n",
    "# Create slider for years\n",
    "years = list(data['Year'].unique())\n",
    "slider = dict(\n",
    "    active=0,\n",
    "    currentvalue={\"prefix\": \"Year: \"},\n",
    "    pad={\"t\": 50},\n",
    "    steps=[{\"label\": str(year), \"method\": \"update\", \"args\": [{\"y\": [list(get_data_by_year(data, year)['Age']),\n",
    "                                                                 list(get_data_by_year(data, year)['Age'])],\n",
    "                                                              \"x\": [list(get_data_by_year(data, year)['M']),\n",
    "                                                                    [-x for x in list(get_data_by_year(data, year)['F'])] ],\n",
    "                                                              \"name\": [\"Male\", \"Female\"],\n",
    "                                                              \"marker\": [{\"color\": \"crimson\"}, {\"color\": \"seagreen\"}],\n",
    "                                                              \"title\": f\"Population Pyramid for Kazakhstan\"}]}\n",
    "             for year in years]\n",
    ")\n",
    "\n",
    "# Set the layout of the figure with slider and axis ranges\n",
    "fig.update_layout(sliders=[slider], title='Population Pyramid for Kazakhstan',\n",
    "                  xaxis=dict(range=[-1200000, 1200000],\n",
    "                             tickvals=[-1000000 ,-800000, -600000, -400000, -200000, 0, 200000, 400000, 600000, 800000, 1000000],\n",
    "                             ticktext=[\"-1M\" , \"800K\", \"600K\", \"400K\", \"200K\", \"0\", \"200K\", \"400K\", \"600K\", \"800K\", \"1M\"],\n",
    "                             title='Number'),\n",
    "                  yaxis=dict(title='Age'),\n",
    "                  barmode='overlay', bargap=0.1)\n",
    "\n",
    "# Show the figure\n",
    "plot(fig, filename='population_pyramid.html')\n"
   ]
  },
  {
   "attachments": {},
   "cell_type": "markdown",
   "metadata": {},
   "source": [
    "### Data for the second visualization"
   ]
  },
  {
   "cell_type": "code",
   "execution_count": 3,
   "metadata": {},
   "outputs": [
    {
     "name": "stderr",
     "output_type": "stream",
     "text": [
      "<ipython-input-3-a7ec5ee26a75>:33: SettingWithCopyWarning:\n",
      "\n",
      "\n",
      "A value is trying to be set on a copy of a slice from a DataFrame.\n",
      "Try using .loc[row_indexer,col_indexer] = value instead\n",
      "\n",
      "See the caveats in the documentation: https://pandas.pydata.org/pandas-docs/stable/user_guide/indexing.html#returning-a-view-versus-a-copy\n",
      "\n"
     ]
    }
   ],
   "source": [
    "# Load data into a pandas DataFrame\n",
    "data = df\n",
    "\n",
    "# Filter out the total rows for each year\n",
    "data = data[data['Age'] != 'Total']\n",
    "\n",
    "# Group the data by year and age\n",
    "grouped_data = data.groupby(['Year', 'Age']).sum()\n",
    "\n",
    "# Calculate the total population for each year\n",
    "year_totals = grouped_data.groupby('Year').sum()\n",
    "\n",
    "# Calculate the percentage share of M and F within each age group with respect to the total population for that year\n",
    "grouped_data['M_p'] = grouped_data['M'] / year_totals['M'] * 100\n",
    "grouped_data['F_p'] = grouped_data['F'] / year_totals['F'] * 100\n",
    "\n",
    "# Reset the index of the DataFrame\n",
    "grouped_data = grouped_data.reset_index()\n",
    "\n",
    "# Add the values of the M_p and F_p columns to the DataFrame\n",
    "for year in grouped_data['Year'].unique():\n",
    "    year_total = year_totals.loc[year]['M'] + year_totals.loc[year]['F']\n",
    "    year_row = grouped_data[grouped_data['Year'] == year]\n",
    "    m_p_sum = year_row['M'].sum() / year_total * 100\n",
    "    f_p_sum = year_row['F'].sum() / year_total * 100\n",
    "    total_row = pd.DataFrame({'Year': [year], 'Age': ['Total'], 'M': [year_row['M'].sum()], 'F': [year_row['F'].sum()], 'M_p': [m_p_sum], 'F_p': [f_p_sum]})\n",
    "    grouped_data = pd.concat([grouped_data, total_row])\n",
    "\n",
    "# Filter out \"Total\" for each year as they are not needed\n",
    "df = grouped_data\n",
    "df = df[df.Age != 'Total']\n",
    "# Recover the age order within each year\n",
    "age_order = ['0-4', '5-9', '10-14', '15-19', '20-24', '25-29', '30-34', '35-39', '40-44', '45-49', '50-54', '55-59', '60-64', '65-69', '70-74', '75-79', '80-84', '85-89', '90-94', '95-99']\n",
    "df['Age'] = pd.Categorical(df['Age'], categories=age_order, ordered=True)  # order the Age column\n",
    "df = df.sort_values(['Year', 'Age'])  # sort again by Year and Age"
   ]
  },
  {
   "attachments": {},
   "cell_type": "markdown",
   "metadata": {},
   "source": [
    "### Code for the second visualization"
   ]
  },
  {
   "cell_type": "code",
   "execution_count": 7,
   "metadata": {},
   "outputs": [
    {
     "data": {
      "text/plain": [
       "'population_pyramid.html'"
      ]
     },
     "execution_count": 7,
     "metadata": {},
     "output_type": "execute_result"
    }
   ],
   "source": [
    "import plotly.graph_objs as go\n",
    "import pandas as pd\n",
    "from plotly.offline import plot\n",
    "\n",
    "# Load data\n",
    "data = df\n",
    "\n",
    "def get_data_by_year(data, year):\n",
    "    return data[data['Year'] == year]\n",
    "\n",
    "def update_traces(year):\n",
    "    data_year = get_data_by_year(data, year)\n",
    "    male_data = data_year[['Age', 'M_p']]\n",
    "    female_data = data_year[['Age', 'F_p']]\n",
    "    age_groups = list(data_year['Age'])\n",
    "    bins = [i for i in range(len(age_groups) + 1)]\n",
    "\n",
    "    fig.data[0].x = [x for x in male_data['M_p']]\n",
    "    fig.data[0].y = age_groups\n",
    "    fig.data[1].x = [-x for x in female_data['F_p']]\n",
    "    fig.data[1].y = age_groups\n",
    "\n",
    "\n",
    "# Create initial plot \n",
    "year = 1950\n",
    "data_year = get_data_by_year(data, year)\n",
    "male_data = data_year[['Age', 'M_p']]\n",
    "female_data = data_year[['Age', 'F_p']]\n",
    "age_groups = list(data_year['Age'])\n",
    "bins = [i for i in range(len(age_groups) + 1)]\n",
    "\n",
    "male_trace = go.Bar(\n",
    "    y=age_groups,\n",
    "    x=[x for x in male_data['M_p']],\n",
    "    orientation='h',\n",
    "    name='Male',\n",
    "    marker=dict(color='crimson')\n",
    ")\n",
    "\n",
    "female_trace = go.Bar(\n",
    "    y=list(age_groups),\n",
    "    x=[-x for x in female_data['F_p']],\n",
    "    orientation='h',\n",
    "    name='Female',\n",
    "    marker=dict(color='seagreen')\n",
    ")\n",
    "\n",
    "fig = go.Figure(data=[male_trace, female_trace])\n",
    "\n",
    "# Create slider for years\n",
    "years = list(data['Year'].unique())\n",
    "slider = dict(\n",
    "    active=0,\n",
    "    currentvalue={\"prefix\": \"Year: \"},\n",
    "    pad={\"t\": 50},\n",
    "    steps=[{\"label\": str(year), \"method\": \"update\", \"args\": [{\"y\": [list(get_data_by_year(data, year)['Age']),\n",
    "                                                                 list(get_data_by_year(data, year)['Age'])],\n",
    "                                                              \"x\": [[x for x in list(get_data_by_year(data, year)['M_p'])],\n",
    "                                                                    [-x for x in list(get_data_by_year(data, year)['F_p'])] ],\n",
    "                                                              \"name\": [\"Male\", \"Female\"],\n",
    "                                                              \"marker\": [{\"color\": \"crimson\"}, {\"color\": \"seagreen\"}],\n",
    "                                                              \"title\": f\"Population Pyramid for Kazakhstan\"}]}\n",
    "             for year in years]\n",
    ")\n",
    "\n",
    "fig.update_layout(sliders=[slider], title='Population Pyramid for Kazakhstan',\n",
    "                  xaxis=dict(range=[-17, 17],\n",
    "                             tickvals=[-15, -10, -5, 0, 5, 10, 15],\n",
    "                             ticktext=['-15%', '-10%', '-5%', '0%', '5%', '10%', '15%'],\n",
    "                             title='Percent'),\n",
    "                  yaxis=dict(title='Age'),\n",
    "                  barmode='overlay', bargap=0.1)\n",
    "\n",
    "# Update traces to show initial year\n",
    "update_traces(year)\n",
    "\n",
    "# Show the figure\n",
    "plot(fig, filename='population_pyramid.html')\n"
   ]
  },
  {
   "attachments": {},
   "cell_type": "markdown",
   "metadata": {},
   "source": [
    "#### Conclusion / Comments\n",
    "\n",
    "I am happy to report that I have successfully addressed the issues I encountered with the population pyramid visualizations on the website I came across. By creating a slider, I was able to make it easier to access the relevant information and incorporate the time-dimension in the most efficient way possible. Additionally, I was able to redo the original visualization with shares, resulting in a more comprehensive and accurate representation of the data.\n",
    "\n",
    "Overall, I am pleased with the changes I made and believe that they have improved upon the existing visualizations. Through this process, I have gained valuable experience in data manipulation and visualization techniques, and I look forward to continuing to develop my skills in these areas in the future."
   ]
  },
  {
   "attachments": {},
   "cell_type": "markdown",
   "metadata": {},
   "source": [
    "#### References\n",
    "\n",
    "Website:\n",
    "PopulationPyramid.net. Retrieved March 30, 2023, from https://www.populationpyramid.net/kazakhstan/2021/\n",
    "\n",
    "Forum:\n",
    "Plotly Community. (2018, June 22). Slider change chart data and chart title. Retrieved March 30, 2023, from https://community.plotly.com/t/slider-change-chart-data-and-chart-title/18510/3\n",
    "\n",
    "Plotly. (n.d.). Sliders. Retrieved March 30, 2023, from https://plotly.com/python/sliders/?_ga=2.132637325.2046321635.1680195794-1552011825.1680195794"
   ]
  }
 ],
 "metadata": {
  "kernelspec": {
   "display_name": "base",
   "language": "python",
   "name": "python3"
  },
  "language_info": {
   "codemirror_mode": {
    "name": "ipython",
    "version": 3
   },
   "file_extension": ".py",
   "mimetype": "text/x-python",
   "name": "python",
   "nbconvert_exporter": "python",
   "pygments_lexer": "ipython3",
   "version": "3.8.8"
  },
  "orig_nbformat": 4,
  "vscode": {
   "interpreter": {
    "hash": "40d3a090f54c6569ab1632332b64b2c03c39dcf918b08424e98f38b5ae0af88f"
   }
  }
 },
 "nbformat": 4,
 "nbformat_minor": 2
}
